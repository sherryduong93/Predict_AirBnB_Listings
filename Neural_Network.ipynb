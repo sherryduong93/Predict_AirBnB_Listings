{
 "cells": [
  {
   "cell_type": "code",
   "execution_count": 3,
   "metadata": {},
   "outputs": [],
   "source": [
    "import numpy as np\n",
    "import pandas as pd\n",
    "import matplotlib.pyplot as plt\n",
    "%matplotlib inline\n",
    "plt.style.use('ggplot')\n",
    "import seaborn as sns\n",
    "pd.set_option('display.max_columns', None)\n",
    "import os\n",
    "from sklearn.model_selection import train_test_split, cross_val_score\n",
    "from sklearn.linear_model import LinearRegression\n",
    "from sklearn.tree import DecisionTreeRegressor\n",
    "from sklearn.ensemble import RandomForestRegressor, GradientBoostingRegressor\n",
    "from sklearn.metrics import mean_squared_error, r2_score"
   ]
  },
  {
   "cell_type": "code",
   "execution_count": 4,
   "metadata": {},
   "outputs": [
    {
     "name": "stderr",
     "output_type": "stream",
     "text": [
      "/Users/sherryduong/anaconda3/lib/python3.7/site-packages/IPython/core/interactiveshell.py:3058: DtypeWarning: Columns (43) have mixed types. Specify dtype option on import or set low_memory=False.\n",
      "  interactivity=interactivity, compiler=compiler, result=result)\n",
      "/Users/sherryduong/anaconda3/lib/python3.7/site-packages/IPython/core/interactiveshell.py:3058: DtypeWarning: Columns (61,62) have mixed types. Specify dtype option on import or set low_memory=False.\n",
      "  interactivity=interactivity, compiler=compiler, result=result)\n",
      "/Users/sherryduong/anaconda3/lib/python3.7/site-packages/ipykernel_launcher.py:19: FutureWarning: Sorting because non-concatenation axis is not aligned. A future version\n",
      "of pandas will change to not sort by default.\n",
      "\n",
      "To accept the future behavior, pass 'sort=False'.\n",
      "\n",
      "To retain the current behavior and silence the warning, pass 'sort=True'.\n",
      "\n"
     ]
    }
   ],
   "source": [
    "#Importing the data\n",
    "final_df=pd.DataFrame()\n",
    "a_df=pd.DataFrame()\n",
    "b_df=pd.DataFrame()\n",
    "c_df=pd.DataFrame()\n",
    "\n",
    "for file_n in os.listdir('listings'):\n",
    "    if file_n[0]=='.':\n",
    "        continue\n",
    "    else:\n",
    "        add_df = pd.read_csv(f'listings/{file_n}')\n",
    "        if len(add_df.columns)==106:\n",
    "            final_df = pd.concat([final_df, add_df], axis=0)\n",
    "        elif len(add_df.columns)==96:\n",
    "            a_df = pd.concat([a_df, add_df], axis=0)\n",
    "        elif len(add_df.columns)==95:\n",
    "            b_df = pd.concat([b_df, add_df], axis=0)\n",
    "        else:\n",
    "            c_df = pd.concat([c_df, add_df], axis=0)"
   ]
  },
  {
   "cell_type": "code",
   "execution_count": 5,
   "metadata": {},
   "outputs": [
    {
     "name": "stderr",
     "output_type": "stream",
     "text": [
      "/Users/sherryduong/anaconda3/lib/python3.7/site-packages/ipykernel_launcher.py:15: FutureWarning: Sorting because non-concatenation axis is not aligned. A future version\n",
      "of pandas will change to not sort by default.\n",
      "\n",
      "To accept the future behavior, pass 'sort=False'.\n",
      "\n",
      "To retain the current behavior and silence the warning, pass 'sort=True'.\n",
      "\n",
      "  from ipykernel import kernelapp as app\n"
     ]
    }
   ],
   "source": [
    "#These are the columns not present in 2018 reports. They will be dropped.\n",
    "not_in_2018 = ['minimum_minimum_nights','maximum_minimum_nights','minimum_maximum_nights','maximum_maximum_nights',\n",
    "       'minimum_nights_avg_ntm','maximum_nights_avg_ntm', 'number_of_reviews_ltm', \n",
    "       'calculated_host_listings_count_entire_homes','calculated_host_listings_count_private_rooms', \n",
    "       'calculated_host_listings_count_shared_rooms']\n",
    "sf_df = final_df.drop(columns=not_in_2018)\n",
    "sf_df = pd.concat([sf_df, a_df], axis=0)\n",
    "\n",
    "#drop one column not in 2017\n",
    "sf_df = sf_df.drop(columns=['is_business_travel_ready'])\n",
    "sf_df = pd.concat([sf_df, b_df], axis=0)\n",
    "\n",
    "#drop 3 columns not in 2016 & Prior\n",
    "sf_df = sf_df.drop(columns=['access', 'interaction', 'house_rules'])\n",
    "sf_df = pd.concat([sf_df, c_df], axis=0)"
   ]
  },
  {
   "cell_type": "code",
   "execution_count": 6,
   "metadata": {},
   "outputs": [],
   "source": [
    "pd.set_option('display.max_rows', 20)\n",
    "#Converting Existing Data Columns to Dates\n",
    "sf_df['last_scraped'] = pd.to_datetime(sf_df['last_scraped'])\n",
    "sf_df['host_since'] = pd.to_datetime(sf_df['host_since'])\n",
    "#Adding new date features\n",
    "sf_df['year'] = sf_df['last_scraped'].transform(lambda x: x.year)\n",
    "sf_df['month-year'] = sf_df['last_scraped'].transform(lambda x: f'{x.month} {x.year}')\n",
    "sf_df['month'] = sf_df['last_scraped'].transform(lambda x: x.month)\n",
    "sf_df['day_of_week'] = sf_df['last_scraped'].transform(lambda x: x.dt.dayofweek)\n",
    "sf_df['day'] = sf_df['last_scraped'].transform(lambda x: x.day)\n",
    "\n",
    "#Converting All Price Related Columns from Objects to Floats\n",
    "sf_df['price'] = sf_df['price'].transform(lambda x: float(x.replace(',', '').replace('$', '')))\n",
    "sf_df['extra_people'] = sf_df['extra_people'].transform(lambda x: float(x.replace(',', '').replace('$', '')))\n",
    "\n",
    "#Fill NaNs in fee columns with 0's, because no additional fee, then convert\n",
    "sf_df[['security_deposit','cleaning_fee']] = sf_df[['security_deposit','cleaning_fee']].fillna(int(0))\n",
    "sf_df['security_deposit'] = sf_df['security_deposit'].transform(lambda x: 0 if x==int(0) else float(x.replace(',', '').replace('$', '')))\n",
    "sf_df['cleaning_fee'] = sf_df['cleaning_fee'].transform(lambda x: 0 if x==int(0) else float(x.replace(',', '').replace('$', '')))\n",
    "\n",
    "#Dropping columns that have over 75% null\n",
    "over_70_null = sf_df.columns[sf_df.isnull().sum()/len(sf_df) > 0.70]\n",
    "sf_df = sf_df.drop(columns=over_70_null)\n",
    "\n",
    "#Removing Outliers (0 & over 2000 daily rate)\n",
    "outlier_thresh=2000\n",
    "sf_df = sf_df.loc[~((sf_df['price'] == 0) | (sf_df['price'] > outlier_thresh))]\n",
    "\n",
    "#Filling the NaNs in beds, bathrooms, bedrooms\n",
    "#Assume that if the tenant has the full apartment, they have a bathroom/bedroom\n",
    "cond1= (sf_df['room_type']=='Entire home/apt')\n",
    "sf_df.loc[cond1 & (sf_df['beds']==0), sf_df.columns=='beds'] = 1\n",
    "sf_df.loc[cond1 & (sf_df['bathrooms']==0), sf_df.columns=='bathrooms'] = 1\n",
    "#For the rest, just fill na\n",
    "sf_df[['beds','bathrooms', 'bedrooms']] = sf_df[['beds','bathrooms', 'bedrooms']].fillna(0)\n",
    "\n",
    "#For review scores, let's just fillin with the average\n",
    "review_lst = ['review_scores_accuracy', 'review_scores_checkin',\n",
    "       'review_scores_cleanliness', 'review_scores_communication',\n",
    "       'review_scores_location', 'review_scores_rating', 'review_scores_value']\n",
    "for review in review_lst:\n",
    "    sf_df[review] = sf_df[review].fillna(sf_df[review].mean())"
   ]
  },
  {
   "cell_type": "code",
   "execution_count": 7,
   "metadata": {},
   "outputs": [],
   "source": [
    "train_df2, test = train_test_split(sf_df, test_size = 0.3, random_state=0)"
   ]
  },
  {
   "cell_type": "code",
   "execution_count": 8,
   "metadata": {},
   "outputs": [
    {
     "name": "stderr",
     "output_type": "stream",
     "text": [
      "/Users/sherryduong/anaconda3/lib/python3.7/site-packages/ipykernel_launcher.py:2: SettingWithCopyWarning: \n",
      "A value is trying to be set on a copy of a slice from a DataFrame.\n",
      "Try using .loc[row_indexer,col_indexer] = value instead\n",
      "\n",
      "See the caveats in the documentation: http://pandas.pydata.org/pandas-docs/stable/user_guide/indexing.html#returning-a-view-versus-a-copy\n",
      "  \n",
      "/Users/sherryduong/anaconda3/lib/python3.7/site-packages/ipykernel_launcher.py:3: SettingWithCopyWarning: \n",
      "A value is trying to be set on a copy of a slice from a DataFrame.\n",
      "Try using .loc[row_indexer,col_indexer] = value instead\n",
      "\n",
      "See the caveats in the documentation: http://pandas.pydata.org/pandas-docs/stable/user_guide/indexing.html#returning-a-view-versus-a-copy\n",
      "  This is separate from the ipykernel package so we can avoid doing imports until\n",
      "/Users/sherryduong/anaconda3/lib/python3.7/site-packages/pandas/core/frame.py:3494: SettingWithCopyWarning: \n",
      "A value is trying to be set on a copy of a slice from a DataFrame.\n",
      "Try using .loc[row_indexer,col_indexer] = value instead\n",
      "\n",
      "See the caveats in the documentation: http://pandas.pydata.org/pandas-docs/stable/user_guide/indexing.html#returning-a-view-versus-a-copy\n",
      "  self[k1] = value[k2]\n",
      "/Users/sherryduong/anaconda3/lib/python3.7/site-packages/ipykernel_launcher.py:5: SettingWithCopyWarning: \n",
      "A value is trying to be set on a copy of a slice from a DataFrame.\n",
      "Try using .loc[row_indexer,col_indexer] = value instead\n",
      "\n",
      "See the caveats in the documentation: http://pandas.pydata.org/pandas-docs/stable/user_guide/indexing.html#returning-a-view-versus-a-copy\n",
      "  \"\"\"\n",
      "/Users/sherryduong/anaconda3/lib/python3.7/site-packages/ipykernel_launcher.py:6: SettingWithCopyWarning: \n",
      "A value is trying to be set on a copy of a slice from a DataFrame.\n",
      "Try using .loc[row_indexer,col_indexer] = value instead\n",
      "\n",
      "See the caveats in the documentation: http://pandas.pydata.org/pandas-docs/stable/user_guide/indexing.html#returning-a-view-versus-a-copy\n",
      "  \n",
      "/Users/sherryduong/anaconda3/lib/python3.7/site-packages/ipykernel_launcher.py:7: SettingWithCopyWarning: \n",
      "A value is trying to be set on a copy of a slice from a DataFrame.\n",
      "Try using .loc[row_indexer,col_indexer] = value instead\n",
      "\n",
      "See the caveats in the documentation: http://pandas.pydata.org/pandas-docs/stable/user_guide/indexing.html#returning-a-view-versus-a-copy\n",
      "  import sys\n",
      "/Users/sherryduong/anaconda3/lib/python3.7/site-packages/ipykernel_launcher.py:8: SettingWithCopyWarning: \n",
      "A value is trying to be set on a copy of a slice from a DataFrame.\n",
      "Try using .loc[row_indexer,col_indexer] = value instead\n",
      "\n",
      "See the caveats in the documentation: http://pandas.pydata.org/pandas-docs/stable/user_guide/indexing.html#returning-a-view-versus-a-copy\n",
      "  \n",
      "/Users/sherryduong/anaconda3/lib/python3.7/site-packages/ipykernel_launcher.py:9: SettingWithCopyWarning: \n",
      "A value is trying to be set on a copy of a slice from a DataFrame.\n",
      "Try using .loc[row_indexer,col_indexer] = value instead\n",
      "\n",
      "See the caveats in the documentation: http://pandas.pydata.org/pandas-docs/stable/user_guide/indexing.html#returning-a-view-versus-a-copy\n",
      "  if __name__ == '__main__':\n",
      "/Users/sherryduong/anaconda3/lib/python3.7/site-packages/ipykernel_launcher.py:10: SettingWithCopyWarning: \n",
      "A value is trying to be set on a copy of a slice from a DataFrame.\n",
      "Try using .loc[row_indexer,col_indexer] = value instead\n",
      "\n",
      "See the caveats in the documentation: http://pandas.pydata.org/pandas-docs/stable/user_guide/indexing.html#returning-a-view-versus-a-copy\n",
      "  # Remove the CWD from sys.path while we load stuff.\n",
      "/Users/sherryduong/anaconda3/lib/python3.7/site-packages/ipykernel_launcher.py:11: SettingWithCopyWarning: \n",
      "A value is trying to be set on a copy of a slice from a DataFrame.\n",
      "Try using .loc[row_indexer,col_indexer] = value instead\n",
      "\n",
      "See the caveats in the documentation: http://pandas.pydata.org/pandas-docs/stable/user_guide/indexing.html#returning-a-view-versus-a-copy\n",
      "  # This is added back by InteractiveShellApp.init_path()\n",
      "/Users/sherryduong/anaconda3/lib/python3.7/site-packages/ipykernel_launcher.py:12: SettingWithCopyWarning: \n",
      "A value is trying to be set on a copy of a slice from a DataFrame.\n",
      "Try using .loc[row_indexer,col_indexer] = value instead\n",
      "\n",
      "See the caveats in the documentation: http://pandas.pydata.org/pandas-docs/stable/user_guide/indexing.html#returning-a-view-versus-a-copy\n",
      "  if sys.path[0] == '':\n"
     ]
    }
   ],
   "source": [
    "#Adding in all feature engineering for best performing model with Random Forest\n",
    "train_df2['amenities'] = train_df2['amenities'].fillna('0')\n",
    "train_df2['num_amenities'] = train_df2['amenities'].transform(lambda x: len(x.split(',')))\n",
    "train_df2[['space','summary','description','name']] = train_df2[['space','summary','description','name']].fillna(0)\n",
    "train_df2['len_space'] = train_df2['space'].transform(lambda x: 0 if x==0 else len(x))\n",
    "train_df2['len_summary'] = train_df2['summary'].transform(lambda x: 0 if x==0 else len(x))\n",
    "train_df2['len_description'] = train_df2['description'].transform(lambda x: 0 if x==0 else len(x))\n",
    "train_df2['len_name'] = train_df2['name'].transform(lambda x: 0 if x==0 else len(x))\n",
    "train_df2['House'] = train_df2['property_type'].transform(lambda x: 1 if x=='Apartment' else 0)\n",
    "train_df2['Apartment'] = train_df2['property_type'].transform(lambda x: 1 if x=='House' else 0)\n",
    "train_df2['Entire_Space'] = train_df2['room_type'].transform(lambda x: 1 if x=='Entire home/apt' else 0)\n",
    "train_df2['Shared_room'] = train_df2['room_type'].transform(lambda x: 1 if x=='Shared room' else 0)"
   ]
  },
  {
   "cell_type": "code",
   "execution_count": 9,
   "metadata": {},
   "outputs": [],
   "source": [
    "features=['accommodates','bathrooms', 'bed_type','bedrooms', 'beds','cleaning_fee',\n",
    "          'extra_people', 'num_amenities',\n",
    "          'review_scores_cleanliness','len_space', 'len_summary', 'len_description',\n",
    "          'len_name', 'review_scores_rating', 'security_deposit', 'month', \n",
    "          'year', 'House', 'Apartment', 'Entire_Space','Shared_room']\n",
    "X9 = train_df2[features]\n",
    "y9 = train_df2['price'].apply(np.log)\n",
    "X9 = pd.get_dummies(X9, columns=['bed_type','month'])\n",
    "X_train, X_val, y_train, y_val = train_test_split(X9, y9, test_size=0.3)"
   ]
  },
  {
   "cell_type": "code",
   "execution_count": 10,
   "metadata": {},
   "outputs": [],
   "source": [
    "import tensorflow as tf\n",
    "from tensorflow.keras.models import Sequential\n",
    "from tensorflow.keras.layers import Dense, Dropout, Activation, Flatten, Conv2D, MaxPooling2D\n",
    "from tensorflow.keras.callbacks import TensorBoard\n",
    "import time"
   ]
  },
  {
   "cell_type": "code",
   "execution_count": 16,
   "metadata": {},
   "outputs": [
    {
     "ename": "AttributeError",
     "evalue": "'numpy.ndarray' object has no attribute 'values'",
     "output_type": "error",
     "traceback": [
      "\u001b[0;31m---------------------------------------------------------------------------\u001b[0m",
      "\u001b[0;31mAttributeError\u001b[0m                            Traceback (most recent call last)",
      "\u001b[0;32m<ipython-input-16-1237d48832e0>\u001b[0m in \u001b[0;36m<module>\u001b[0;34m\u001b[0m\n\u001b[0;32m----> 1\u001b[0;31m \u001b[0mX_train\u001b[0m \u001b[0;34m=\u001b[0m \u001b[0mtf\u001b[0m\u001b[0;34m.\u001b[0m\u001b[0mkeras\u001b[0m\u001b[0;34m.\u001b[0m\u001b[0mutils\u001b[0m\u001b[0;34m.\u001b[0m\u001b[0mnormalize\u001b[0m\u001b[0;34m(\u001b[0m\u001b[0mX_train\u001b[0m\u001b[0;34m,\u001b[0m \u001b[0maxis\u001b[0m\u001b[0;34m=\u001b[0m\u001b[0;36m1\u001b[0m\u001b[0;34m)\u001b[0m\u001b[0;34m.\u001b[0m\u001b[0mvalues\u001b[0m\u001b[0;34m(\u001b[0m\u001b[0;34m)\u001b[0m\u001b[0;34m\u001b[0m\u001b[0;34m\u001b[0m\u001b[0m\n\u001b[0m\u001b[1;32m      2\u001b[0m \u001b[0my_train\u001b[0m \u001b[0;34m=\u001b[0m \u001b[0mnp\u001b[0m\u001b[0;34m.\u001b[0m\u001b[0marray\u001b[0m\u001b[0;34m(\u001b[0m\u001b[0my_train\u001b[0m\u001b[0;34m)\u001b[0m\u001b[0;34m.\u001b[0m\u001b[0mvalues\u001b[0m\u001b[0;34m(\u001b[0m\u001b[0;34m)\u001b[0m\u001b[0;34m\u001b[0m\u001b[0;34m\u001b[0m\u001b[0m\n",
      "\u001b[0;31mAttributeError\u001b[0m: 'numpy.ndarray' object has no attribute 'values'"
     ]
    }
   ],
   "source": [
    "X_train = tf.keras.utils.normalize(X_train, axis=1).values()\n",
    "y_train = np.array(y_train).values()"
   ]
  },
  {
   "cell_type": "code",
   "execution_count": 14,
   "metadata": {},
   "outputs": [
    {
     "ename": "ValueError",
     "evalue": "Please provide as model inputs either a single array or a list of arrays. You passed: inputs=      accommodates  bathrooms  bedrooms      beds  cleaning_fee  extra_people  \\\n4363      0.001852   0.000463  0.000926  0.000926      0.018523      0.023154   \n7552      0.000808   0.000606  0.000404  0.000404      0.026260      0.022220   \n7074      0.001602   0.000401  0.000401  0.000801      0.000000      0.006009   \n4687      0.000869   0.000434  0.000434  0.000434      0.021714      0.000000   \n886       0.001611   0.000604  0.000805  0.001208      0.064422      0.020132   \n...            ...        ...       ...       ...           ...           ...   \n539       0.000967   0.000484  0.000484  0.000484      0.024184      0.000000   \n1630      0.000441   0.000441  0.000441  0.000441      0.017646      0.000000   \n5065      0.000490   0.000490  0.000490  0.000490      0.049021      0.049021   \n6159      0.002537   0.000634  0.000846  0.001691      0.014798      0.000000   \n7323      0.002196   0.001255  0.000941  0.000941      0.056458      0.000000   \n\n      num_amenities  review_scores_cleanliness  len_space  len_summary  \\\n4363       0.012966                   0.004631   0.000000     0.153277   \n7552       0.009696                   0.004040   0.400359     0.100595   \n7074       0.008814                   0.004006   0.400614     0.133805   \n4687       0.015200                   0.004343   0.056456     0.159379   \n886        0.006040                   0.004026   0.361972     0.117168   \n...             ...                        ...        ...          ...   \n539        0.006772                   0.004837   0.130595     0.120438   \n1630       0.008823                   0.004412   0.021617     0.134995   \n5065       0.011765                   0.004902   0.000000     0.071571   \n6159       0.008033                   0.004228   0.265519     0.101895   \n7323       0.005646                   0.002823   0.313658     0.072141   \n\n      len_description  len_name  review_scores_rating  security_deposit  \\\n4363         0.317205  0.016671              0.046307          0.000000   \n7552         0.403995  0.010908              0.040399          0.000000   \n7074         0.400614  0.012419              0.038459          0.080123   \n4687         0.434275  0.019977              0.043428          0.108569   \n886          0.402639  0.011677              0.039861          0.161056   \n...               ...       ...                   ...               ...   \n539          0.120438  0.009674              0.048369          0.000000   \n1630         0.404986  0.013235              0.043234          0.154407   \n5065         0.087748  0.014706              0.049021          0.000000   \n6159         0.422801  0.011838              0.038475          0.105700   \n7323         0.313658  0.010037              0.030425          0.627316   \n\n          year     House  Apartment  Entire_Space  Shared_room  \\\n4363  0.934018  0.000463   0.000000      0.000463          0.0   \n7552  0.814454  0.000000   0.000404      0.000000          0.0   \n7074  0.808038  0.000401   0.000000      0.000401          0.0   \n4687  0.876368  0.000434   0.000000      0.000434          0.0   \n886   0.812928  0.000000   0.000403      0.000403          0.0   \n...        ...       ...        ...           ...          ...   \n539   0.975113  0.000000   0.000484      0.000000          0.0   \n1630  0.889381  0.000000   0.000441      0.000000          0.0   \n5065  0.989741  0.000000   0.000490      0.000000          0.0   \n6159  0.852790  0.000000   0.000000      0.000423          0.0   \n7323  0.632649  0.000314   0.000000      0.000314          0.0   \n\n      bed_type_Airbed  bed_type_Couch  bed_type_Futon  bed_type_Pull-out Sofa  \\\n4363              0.0             0.0             0.0                     0.0   \n7552              0.0             0.0             0.0                     0.0   \n7074              0.0             0.0             0.0                     0.0   \n4687              0.0             0.0             0.0                     0.0   \n886               0.0             0.0             0.0                     0.0   \n...               ...             ...             ...                     ...   \n539               0.0             0.0             0.0                     0.0   \n1630              0.0             0.0             0.0                     0.0   \n5065              0.0             0.0             0.0                     0.0   \n6159              0.0             0.0             0.0                     0.0   \n7323              0.0             0.0             0.0                     0.0   \n\n      bed_type_Real Bed   month_1   month_2  month_3  month_4   month_5  \\\n4363           0.000463  0.000000  0.000000      0.0      0.0  0.000000   \n7552           0.000404  0.000000  0.000000      0.0      0.0  0.000000   \n7074           0.000401  0.000000  0.000000      0.0      0.0  0.000000   \n4687           0.000434  0.000000  0.000000      0.0      0.0  0.000000   \n886            0.000403  0.000403  0.000000      0.0      0.0  0.000000   \n...                 ...       ...       ...      ...      ...       ...   \n539            0.000484  0.000000  0.000000      0.0      0.0  0.000484   \n1630           0.000441  0.000000  0.000000      0.0      0.0  0.000000   \n5065           0.000490  0.000000  0.000000      0.0      0.0  0.000000   \n6159           0.000423  0.000000  0.000000      0.0      0.0  0.000000   \n7323           0.000314  0.000000  0.000314      0.0      0.0  0.000000   \n\n      month_6   month_7   month_8   month_9  month_10  month_11  month_12  \n4363      0.0  0.000000  0.000000  0.000463       0.0       0.0       0.0  \n7552      0.0  0.000000  0.000000  0.000404       0.0       0.0       0.0  \n7074      0.0  0.000401  0.000000  0.000000       0.0       0.0       0.0  \n4687      0.0  0.000000  0.000434  0.000000       0.0       0.0       0.0  \n886       0.0  0.000000  0.000000  0.000000       0.0       0.0       0.0  \n...       ...       ...       ...       ...       ...       ...       ...  \n539       0.0  0.000000  0.000000  0.000000       0.0       0.0       0.0  \n1630      0.0  0.000441  0.000000  0.000000       0.0       0.0       0.0  \n5065      0.0  0.000490  0.000000  0.000000       0.0       0.0       0.0  \n6159      0.0  0.000000  0.000423  0.000000       0.0       0.0       0.0  \n7323      0.0  0.000000  0.000000  0.000000       0.0       0.0       0.0  \n\n[192805 rows x 36 columns]",
     "output_type": "error",
     "traceback": [
      "\u001b[0;31m---------------------------------------------------------------------------\u001b[0m",
      "\u001b[0;31mValueError\u001b[0m                                Traceback (most recent call last)",
      "\u001b[0;32m<ipython-input-14-800c180a0565>\u001b[0m in \u001b[0;36m<module>\u001b[0;34m\u001b[0m\n\u001b[1;32m     17\u001b[0m              \u001b[0moptimizer\u001b[0m\u001b[0;34m=\u001b[0m\u001b[0;34m'adam'\u001b[0m\u001b[0;34m,\u001b[0m\u001b[0;34m\u001b[0m\u001b[0;34m\u001b[0m\u001b[0m\n\u001b[1;32m     18\u001b[0m              metrics=['MeanSquaredError'])\n\u001b[0;32m---> 19\u001b[0;31m \u001b[0mmodel\u001b[0m\u001b[0;34m.\u001b[0m\u001b[0mfit\u001b[0m\u001b[0;34m(\u001b[0m\u001b[0mX_train\u001b[0m\u001b[0;34m,\u001b[0m\u001b[0my_train\u001b[0m\u001b[0;34m,\u001b[0m \u001b[0mbatch_size\u001b[0m\u001b[0;34m=\u001b[0m\u001b[0;36m32\u001b[0m\u001b[0;34m,\u001b[0m \u001b[0mepochs\u001b[0m\u001b[0;34m=\u001b[0m\u001b[0;36m10\u001b[0m\u001b[0;34m,\u001b[0m \u001b[0mvalidation_split\u001b[0m\u001b[0;34m=\u001b[0m\u001b[0;36m0.1\u001b[0m\u001b[0;34m)\u001b[0m\u001b[0;34m\u001b[0m\u001b[0;34m\u001b[0m\u001b[0m\n\u001b[0m",
      "\u001b[0;32m~/anaconda3/lib/python3.7/site-packages/tensorflow_core/python/keras/engine/training.py\u001b[0m in \u001b[0;36mfit\u001b[0;34m(self, x, y, batch_size, epochs, verbose, callbacks, validation_split, validation_data, shuffle, class_weight, sample_weight, initial_epoch, steps_per_epoch, validation_steps, validation_freq, max_queue_size, workers, use_multiprocessing, **kwargs)\u001b[0m\n\u001b[1;32m    817\u001b[0m         \u001b[0mmax_queue_size\u001b[0m\u001b[0;34m=\u001b[0m\u001b[0mmax_queue_size\u001b[0m\u001b[0;34m,\u001b[0m\u001b[0;34m\u001b[0m\u001b[0;34m\u001b[0m\u001b[0m\n\u001b[1;32m    818\u001b[0m         \u001b[0mworkers\u001b[0m\u001b[0;34m=\u001b[0m\u001b[0mworkers\u001b[0m\u001b[0;34m,\u001b[0m\u001b[0;34m\u001b[0m\u001b[0;34m\u001b[0m\u001b[0m\n\u001b[0;32m--> 819\u001b[0;31m         use_multiprocessing=use_multiprocessing)\n\u001b[0m\u001b[1;32m    820\u001b[0m \u001b[0;34m\u001b[0m\u001b[0m\n\u001b[1;32m    821\u001b[0m   def evaluate(self,\n",
      "\u001b[0;32m~/anaconda3/lib/python3.7/site-packages/tensorflow_core/python/keras/engine/training_v2.py\u001b[0m in \u001b[0;36mfit\u001b[0;34m(self, model, x, y, batch_size, epochs, verbose, callbacks, validation_split, validation_data, shuffle, class_weight, sample_weight, initial_epoch, steps_per_epoch, validation_steps, validation_freq, max_queue_size, workers, use_multiprocessing, **kwargs)\u001b[0m\n\u001b[1;32m    233\u001b[0m           \u001b[0mmax_queue_size\u001b[0m\u001b[0;34m=\u001b[0m\u001b[0mmax_queue_size\u001b[0m\u001b[0;34m,\u001b[0m\u001b[0;34m\u001b[0m\u001b[0;34m\u001b[0m\u001b[0m\n\u001b[1;32m    234\u001b[0m           \u001b[0mworkers\u001b[0m\u001b[0;34m=\u001b[0m\u001b[0mworkers\u001b[0m\u001b[0;34m,\u001b[0m\u001b[0;34m\u001b[0m\u001b[0;34m\u001b[0m\u001b[0m\n\u001b[0;32m--> 235\u001b[0;31m           use_multiprocessing=use_multiprocessing)\n\u001b[0m\u001b[1;32m    236\u001b[0m \u001b[0;34m\u001b[0m\u001b[0m\n\u001b[1;32m    237\u001b[0m       \u001b[0mtotal_samples\u001b[0m \u001b[0;34m=\u001b[0m \u001b[0m_get_total_number_of_samples\u001b[0m\u001b[0;34m(\u001b[0m\u001b[0mtraining_data_adapter\u001b[0m\u001b[0;34m)\u001b[0m\u001b[0;34m\u001b[0m\u001b[0;34m\u001b[0m\u001b[0m\n",
      "\u001b[0;32m~/anaconda3/lib/python3.7/site-packages/tensorflow_core/python/keras/engine/training_v2.py\u001b[0m in \u001b[0;36m_process_training_inputs\u001b[0;34m(model, x, y, batch_size, epochs, sample_weights, class_weights, steps_per_epoch, validation_split, validation_data, validation_steps, shuffle, distribution_strategy, max_queue_size, workers, use_multiprocessing)\u001b[0m\n\u001b[1;32m    550\u001b[0m         \u001b[0mbatch_size\u001b[0m\u001b[0;34m=\u001b[0m\u001b[0mbatch_size\u001b[0m\u001b[0;34m,\u001b[0m\u001b[0;34m\u001b[0m\u001b[0;34m\u001b[0m\u001b[0m\n\u001b[1;32m    551\u001b[0m         \u001b[0mcheck_steps\u001b[0m\u001b[0;34m=\u001b[0m\u001b[0;32mFalse\u001b[0m\u001b[0;34m,\u001b[0m\u001b[0;34m\u001b[0m\u001b[0;34m\u001b[0m\u001b[0m\n\u001b[0;32m--> 552\u001b[0;31m         steps=steps_per_epoch)\n\u001b[0m\u001b[1;32m    553\u001b[0m     (x, y, sample_weights,\n\u001b[1;32m    554\u001b[0m      \u001b[0mval_x\u001b[0m\u001b[0;34m,\u001b[0m \u001b[0mval_y\u001b[0m\u001b[0;34m,\u001b[0m\u001b[0;34m\u001b[0m\u001b[0;34m\u001b[0m\u001b[0m\n",
      "\u001b[0;32m~/anaconda3/lib/python3.7/site-packages/tensorflow_core/python/keras/engine/training.py\u001b[0m in \u001b[0;36m_standardize_user_data\u001b[0;34m(self, x, y, sample_weight, class_weight, batch_size, check_steps, steps_name, steps, validation_split, shuffle, extract_tensors_from_dataset)\u001b[0m\n\u001b[1;32m   2344\u001b[0m     \u001b[0;31m# First, we build the model on the fly if necessary.\u001b[0m\u001b[0;34m\u001b[0m\u001b[0;34m\u001b[0m\u001b[0;34m\u001b[0m\u001b[0m\n\u001b[1;32m   2345\u001b[0m     \u001b[0;32mif\u001b[0m \u001b[0;32mnot\u001b[0m \u001b[0mself\u001b[0m\u001b[0;34m.\u001b[0m\u001b[0minputs\u001b[0m\u001b[0;34m:\u001b[0m\u001b[0;34m\u001b[0m\u001b[0;34m\u001b[0m\u001b[0m\n\u001b[0;32m-> 2346\u001b[0;31m       \u001b[0mall_inputs\u001b[0m\u001b[0;34m,\u001b[0m \u001b[0my_input\u001b[0m\u001b[0;34m,\u001b[0m \u001b[0mdict_inputs\u001b[0m \u001b[0;34m=\u001b[0m \u001b[0mself\u001b[0m\u001b[0;34m.\u001b[0m\u001b[0m_build_model_with_inputs\u001b[0m\u001b[0;34m(\u001b[0m\u001b[0mx\u001b[0m\u001b[0;34m,\u001b[0m \u001b[0my\u001b[0m\u001b[0;34m)\u001b[0m\u001b[0;34m\u001b[0m\u001b[0;34m\u001b[0m\u001b[0m\n\u001b[0m\u001b[1;32m   2347\u001b[0m       \u001b[0mis_build_called\u001b[0m \u001b[0;34m=\u001b[0m \u001b[0;32mTrue\u001b[0m\u001b[0;34m\u001b[0m\u001b[0;34m\u001b[0m\u001b[0m\n\u001b[1;32m   2348\u001b[0m     \u001b[0;32melse\u001b[0m\u001b[0;34m:\u001b[0m\u001b[0;34m\u001b[0m\u001b[0;34m\u001b[0m\u001b[0m\n",
      "\u001b[0;32m~/anaconda3/lib/python3.7/site-packages/tensorflow_core/python/keras/engine/training.py\u001b[0m in \u001b[0;36m_build_model_with_inputs\u001b[0;34m(self, inputs, targets)\u001b[0m\n\u001b[1;32m   2525\u001b[0m     \u001b[0;31m# or lists of arrays, and extract a flat list of inputs from the passed\u001b[0m\u001b[0;34m\u001b[0m\u001b[0;34m\u001b[0m\u001b[0;34m\u001b[0m\u001b[0m\n\u001b[1;32m   2526\u001b[0m     \u001b[0;31m# structure.\u001b[0m\u001b[0;34m\u001b[0m\u001b[0;34m\u001b[0m\u001b[0;34m\u001b[0m\u001b[0m\n\u001b[0;32m-> 2527\u001b[0;31m     \u001b[0mtraining_utils\u001b[0m\u001b[0;34m.\u001b[0m\u001b[0mvalidate_input_types\u001b[0m\u001b[0;34m(\u001b[0m\u001b[0minputs\u001b[0m\u001b[0;34m,\u001b[0m \u001b[0morig_inputs\u001b[0m\u001b[0;34m)\u001b[0m\u001b[0;34m\u001b[0m\u001b[0;34m\u001b[0m\u001b[0m\n\u001b[0m\u001b[1;32m   2528\u001b[0m \u001b[0;34m\u001b[0m\u001b[0m\n\u001b[1;32m   2529\u001b[0m     \u001b[0;32mif\u001b[0m \u001b[0misinstance\u001b[0m\u001b[0;34m(\u001b[0m\u001b[0minputs\u001b[0m\u001b[0;34m,\u001b[0m \u001b[0;34m(\u001b[0m\u001b[0mlist\u001b[0m\u001b[0;34m,\u001b[0m \u001b[0mtuple\u001b[0m\u001b[0;34m)\u001b[0m\u001b[0;34m)\u001b[0m\u001b[0;34m:\u001b[0m\u001b[0;34m\u001b[0m\u001b[0;34m\u001b[0m\u001b[0m\n",
      "\u001b[0;32m~/anaconda3/lib/python3.7/site-packages/tensorflow_core/python/keras/engine/training_utils.py\u001b[0m in \u001b[0;36mvalidate_input_types\u001b[0;34m(inp, orig_inp, allow_dict, field_name)\u001b[0m\n\u001b[1;32m   1243\u001b[0m     raise ValueError(\n\u001b[1;32m   1244\u001b[0m         \u001b[0;34m'Please provide as model inputs either a single array or a list of '\u001b[0m\u001b[0;34m\u001b[0m\u001b[0;34m\u001b[0m\u001b[0m\n\u001b[0;32m-> 1245\u001b[0;31m         'arrays. You passed: {}={}'.format(field_name, orig_inp))\n\u001b[0m\u001b[1;32m   1246\u001b[0m \u001b[0;34m\u001b[0m\u001b[0m\n\u001b[1;32m   1247\u001b[0m \u001b[0;34m\u001b[0m\u001b[0m\n",
      "\u001b[0;31mValueError\u001b[0m: Please provide as model inputs either a single array or a list of arrays. You passed: inputs=      accommodates  bathrooms  bedrooms      beds  cleaning_fee  extra_people  \\\n4363      0.001852   0.000463  0.000926  0.000926      0.018523      0.023154   \n7552      0.000808   0.000606  0.000404  0.000404      0.026260      0.022220   \n7074      0.001602   0.000401  0.000401  0.000801      0.000000      0.006009   \n4687      0.000869   0.000434  0.000434  0.000434      0.021714      0.000000   \n886       0.001611   0.000604  0.000805  0.001208      0.064422      0.020132   \n...            ...        ...       ...       ...           ...           ...   \n539       0.000967   0.000484  0.000484  0.000484      0.024184      0.000000   \n1630      0.000441   0.000441  0.000441  0.000441      0.017646      0.000000   \n5065      0.000490   0.000490  0.000490  0.000490      0.049021      0.049021   \n6159      0.002537   0.000634  0.000846  0.001691      0.014798      0.000000   \n7323      0.002196   0.001255  0.000941  0.000941      0.056458      0.000000   \n\n      num_amenities  review_scores_cleanliness  len_space  len_summary  \\\n4363       0.012966                   0.004631   0.000000     0.153277   \n7552       0.009696                   0.004040   0.400359     0.100595   \n7074       0.008814                   0.004006   0.400614     0.133805   \n4687       0.015200                   0.004343   0.056456     0.159379   \n886        0.006040                   0.004026   0.361972     0.117168   \n...             ...                        ...        ...          ...   \n539        0.006772                   0.004837   0.130595     0.120438   \n1630       0.008823                   0.004412   0.021617     0.134995   \n5065       0.011765                   0.004902   0.000000     0.071571   \n6159       0.008033                   0.004228   0.265519     0.101895   \n7323       0.005646                   0.002823   0.313658     0.072141   \n\n      len_description  len_name  review_scores_rating  security_deposit  \\\n4363         0.317205  0.016671              0.046307          0.000000   \n7552         0.403995  0.010908              0.040399          0.000000   \n7074         0.400614  0.012419              0.038459          0.080123   \n4687         0.434275  0.019977              0.043428          0.108569   \n886          0.402639  0.011677              0.039861          0.161056   \n...               ...       ...                   ...               ...   \n539          0.120438  0.009674              0.048369          0.000000   \n1630         0.404986  0.013235              0.043234          0.154407   \n5065         0.087748  0.014706              0.049021          0.000000   \n6159         0.422801  0.011838              0.038475          0.105700   \n7323         0.313658  0.010037              0.030425          0.627316   \n\n          year     House  Apartment  Entire_Space  Shared_room  \\\n4363  0.934018  0.000463   0.000000      0.000463          0.0   \n7552  0.814454  0.000000   0.000404      0.000000          0.0   \n7074  0.808038  0.000401   0.000000      0.000401          0.0   \n4687  0.876368  0.000434   0.000000      0.000434          0.0   \n886   0.812928  0.000000   0.000403      0.000403          0.0   \n...        ...       ...        ...           ...          ...   \n539   0.975113  0.000000   0.000484      0.000000          0.0   \n1630  0.889381  0.000000   0.000441      0.000000          0.0   \n5065  0.989741  0.000000   0.000490      0.000000          0.0   \n6159  0.852790  0.000000   0.000000      0.000423          0.0   \n7323  0.632649  0.000314   0.000000      0.000314          0.0   \n\n      bed_type_Airbed  bed_type_Couch  bed_type_Futon  bed_type_Pull-out Sofa  \\\n4363              0.0             0.0             0.0                     0.0   \n7552              0.0             0.0             0.0                     0.0   \n7074              0.0             0.0             0.0                     0.0   \n4687              0.0             0.0             0.0                     0.0   \n886               0.0             0.0             0.0                     0.0   \n...               ...             ...             ...                     ...   \n539               0.0             0.0             0.0                     0.0   \n1630              0.0             0.0             0.0                     0.0   \n5065              0.0             0.0             0.0                     0.0   \n6159              0.0             0.0             0.0                     0.0   \n7323              0.0             0.0             0.0                     0.0   \n\n      bed_type_Real Bed   month_1   month_2  month_3  month_4   month_5  \\\n4363           0.000463  0.000000  0.000000      0.0      0.0  0.000000   \n7552           0.000404  0.000000  0.000000      0.0      0.0  0.000000   \n7074           0.000401  0.000000  0.000000      0.0      0.0  0.000000   \n4687           0.000434  0.000000  0.000000      0.0      0.0  0.000000   \n886            0.000403  0.000403  0.000000      0.0      0.0  0.000000   \n...                 ...       ...       ...      ...      ...       ...   \n539            0.000484  0.000000  0.000000      0.0      0.0  0.000484   \n1630           0.000441  0.000000  0.000000      0.0      0.0  0.000000   \n5065           0.000490  0.000000  0.000000      0.0      0.0  0.000000   \n6159           0.000423  0.000000  0.000000      0.0      0.0  0.000000   \n7323           0.000314  0.000000  0.000314      0.0      0.0  0.000000   \n\n      month_6   month_7   month_8   month_9  month_10  month_11  month_12  \n4363      0.0  0.000000  0.000000  0.000463       0.0       0.0       0.0  \n7552      0.0  0.000000  0.000000  0.000404       0.0       0.0       0.0  \n7074      0.0  0.000401  0.000000  0.000000       0.0       0.0       0.0  \n4687      0.0  0.000000  0.000434  0.000000       0.0       0.0       0.0  \n886       0.0  0.000000  0.000000  0.000000       0.0       0.0       0.0  \n...       ...       ...       ...       ...       ...       ...       ...  \n539       0.0  0.000000  0.000000  0.000000       0.0       0.0       0.0  \n1630      0.0  0.000441  0.000000  0.000000       0.0       0.0       0.0  \n5065      0.0  0.000490  0.000000  0.000000       0.0       0.0       0.0  \n6159      0.0  0.000000  0.000423  0.000000       0.0       0.0       0.0  \n7323      0.0  0.000000  0.000000  0.000000       0.0       0.0       0.0  \n\n[192805 rows x 36 columns]"
     ]
    }
   ],
   "source": [
    "model = Sequential()\n",
    "\n",
    "#Input layer\n",
    "model.add(Dense(1))\n",
    "model.add(Activation(\"relu\"))\n",
    "\n",
    "#Hidden layer\n",
    "model.add(Flatten())\n",
    "model.add(Dense(64))\n",
    "model.add(Activation('relu'))\n",
    "\n",
    "#Output layer\n",
    "model.add(Dense(1))\n",
    "model.add(Activation('relu'))\n",
    "\n",
    "model.compile(loss='mean_squared_error',\n",
    "             optimizer='adam',\n",
    "             metrics=['MeanSquaredError'])\n",
    "model.fit(X_train,y_train, batch_size=32, epochs=10, validation_split=0.1)"
   ]
  },
  {
   "cell_type": "code",
   "execution_count": null,
   "metadata": {},
   "outputs": [],
   "source": [
    "X_val = tf.keras.utils.normalize(X_val, axis=1).values\n",
    "y_val = np.array(y_val)\n",
    "preds = model.predict(X_val) \n",
    "rmse = np.sqrt(mean_squared_error(np.exp(y_val), np.exp(preds)))\n",
    "r2 = r2_score(np.exp(y_val), np.exp(preds))\n",
    "print(rmse, r2)"
   ]
  },
  {
   "cell_type": "markdown",
   "metadata": {},
   "source": [
    "## Add More Layers"
   ]
  },
  {
   "cell_type": "code",
   "execution_count": 28,
   "metadata": {},
   "outputs": [
    {
     "name": "stdout",
     "output_type": "stream",
     "text": [
      "Train on 173524 samples, validate on 19281 samples\n",
      "Epoch 1/30\n",
      "173524/173524 [==============================] - 10s 56us/sample - loss: 26.6131 - MeanSquaredError: 26.6130 - val_loss: 26.5837 - val_MeanSquaredError: 26.5837\n",
      "Epoch 2/30\n",
      "173524/173524 [==============================] - 9s 51us/sample - loss: 26.6131 - MeanSquaredError: 26.6130 - val_loss: 26.5837 - val_MeanSquaredError: 26.5837\n",
      "Epoch 3/30\n",
      "173524/173524 [==============================] - 9s 49us/sample - loss: 26.6131 - MeanSquaredError: 26.6131 - val_loss: 26.5837 - val_MeanSquaredError: 26.5837\n",
      "Epoch 4/30\n",
      "173524/173524 [==============================] - 9s 50us/sample - loss: 26.6131 - MeanSquaredError: 26.6131 - val_loss: 26.5837 - val_MeanSquaredError: 26.5837\n",
      "Epoch 5/30\n",
      "173524/173524 [==============================] - 9s 52us/sample - loss: 26.6131 - MeanSquaredError: 26.6131 - val_loss: 26.5837 - val_MeanSquaredError: 26.5837ss: 26.6164\n",
      "Epoch 6/30\n",
      "173524/173524 [==============================] - 9s 51us/sample - loss: 26.6131 - MeanSquaredError: 26.6130 - val_loss: 26.5837 - val_MeanSquaredError: 26.5837Squ\n",
      "Epoch 7/30\n",
      "173524/173524 [==============================] - 10s 58us/sample - loss: 26.6131 - MeanSquaredError: 26.6130 - val_loss: 26.5837 - val_MeanSquaredError: 26.5837\n",
      "Epoch 8/30\n",
      "173524/173524 [==============================] - 8s 48us/sample - loss: 26.6131 - MeanSquaredError: 26.6130 - val_loss: 26.5837 - val_MeanSquaredError: 26.5837\n",
      "Epoch 9/30\n",
      "173524/173524 [==============================] - 8s 49us/sample - loss: 26.6131 - MeanSquaredError: 26.6130 - val_loss: 26.5837 - val_MeanSquaredError: 26.5837\n",
      "Epoch 10/30\n",
      "173524/173524 [==============================] - 10s 58us/sample - loss: 26.6131 - MeanSquaredError: 26.6131 - val_loss: 26.5837 - val_MeanSquaredError: 26.5837\n",
      "Epoch 11/30\n",
      "173524/173524 [==============================] - 9s 52us/sample - loss: 26.6131 - MeanSquaredError: 26.6131 - val_loss: 26.5837 - val_MeanSquaredError: 26.5837\n",
      "Epoch 12/30\n",
      "173524/173524 [==============================] - 8s 49us/sample - loss: 26.6131 - MeanSquaredError: 26.6131 - val_loss: 26.5837 - val_MeanSquaredError: 26.5837\n",
      "Epoch 13/30\n",
      "173524/173524 [==============================] - 9s 53us/sample - loss: 26.6131 - MeanSquaredError: 26.6130 - val_loss: 26.5837 - val_MeanSquaredError: 26.5837\n",
      "Epoch 14/30\n",
      "173524/173524 [==============================] - 10s 55us/sample - loss: 26.6131 - MeanSquaredError: 26.6131 - val_loss: 26.5837 - val_MeanSquaredError: 26.5837\n",
      "Epoch 15/30\n",
      "173524/173524 [==============================] - 9s 54us/sample - loss: 26.6131 - MeanSquaredError: 26.6131 - val_loss: 26.5837 - val_MeanSquaredError: 26.5837\n",
      "Epoch 16/30\n",
      "173524/173524 [==============================] - 10s 60us/sample - loss: 26.6131 - MeanSquaredError: 26.6131 - val_loss: 26.5837 - val_MeanSquaredError: 26.5837\n",
      "Epoch 17/30\n",
      "173524/173524 [==============================] - 10s 57us/sample - loss: 26.6131 - MeanSquaredError: 26.6130 - val_loss: 26.5837 - val_MeanSquaredError: 26.5837\n",
      "Epoch 18/30\n",
      "173524/173524 [==============================] - 9s 54us/sample - loss: 26.6131 - MeanSquaredError: 26.6131 - val_loss: 26.5837 - val_MeanSquaredError: 26.5837\n",
      "Epoch 19/30\n",
      "173524/173524 [==============================] - 10s 57us/sample - loss: 26.6131 - MeanSquaredError: 26.6131 - val_loss: 26.5837 - val_MeanSquaredError: 26.5837\n",
      "Epoch 20/30\n",
      "173524/173524 [==============================] - 9s 53us/sample - loss: 26.6131 - MeanSquaredError: 26.6130 - val_loss: 26.5837 - val_MeanSquaredError: 26.5837181 - MeanSquaredError: 26.61\n",
      "Epoch 21/30\n",
      "173524/173524 [==============================] - 10s 58us/sample - loss: 26.6131 - MeanSquaredError: 26.6130 - val_loss: 26.5837 - val_MeanSquaredError: 26.5837\n",
      "Epoch 22/30\n",
      "173524/173524 [==============================] - 8s 49us/sample - loss: 26.6131 - MeanSquaredError: 26.6131 - val_loss: 26.5837 - val_MeanSquaredError: 26.5837\n",
      "Epoch 23/30\n",
      "173524/173524 [==============================] - 9s 49us/sample - loss: 26.6131 - MeanSquaredError: 26.6130 - val_loss: 26.5837 - val_MeanSquaredError: 26.5837- loss: 26.6032 - M - ETA: 0s - loss: 26.6029 - MeanS\n",
      "Epoch 24/30\n",
      "173524/173524 [==============================] - 9s 50us/sample - loss: 26.6131 - MeanSquaredError: 26.6131 - val_loss: 26.5837 - val_MeanSquaredError: 26.5837\n",
      "Epoch 25/30\n",
      "173524/173524 [==============================] - 9s 50us/sample - loss: 26.6131 - MeanSquaredError: 26.6130 - val_loss: 26.5837 - val_MeanSquaredError: 26.5837\n",
      "Epoch 26/30\n",
      "173524/173524 [==============================] - 9s 51us/sample - loss: 26.6131 - MeanSquaredError: 26.6130 - val_loss: 26.5837 - val_MeanSquaredError: 26.5837\n",
      "Epoch 27/30\n",
      "173524/173524 [==============================] - 9s 50us/sample - loss: 26.6131 - MeanSquaredError: 26.6131 - val_loss: 26.5837 - val_MeanSquaredError: 26.5837\n",
      "Epoch 28/30\n",
      "173524/173524 [==============================] - 9s 51us/sample - loss: 26.6131 - MeanSquaredError: 26.6130 - val_loss: 26.5837 - val_MeanSquaredError: 26.5837\n",
      "Epoch 29/30\n",
      "173524/173524 [==============================] - 9s 50us/sample - loss: 26.6131 - MeanSquaredError: 26.6131 - val_loss: 26.5837 - val_MeanSquaredError: 26.5837\n",
      "Epoch 30/30\n",
      "173524/173524 [==============================] - 9s 52us/sample - loss: 26.6131 - MeanSquaredError: 26.6131 - val_loss: 26.5837 - val_MeanSquaredError: 26.5837\n"
     ]
    },
    {
     "data": {
      "text/plain": [
       "<tensorflow.python.keras.callbacks.History at 0x1a54fdf990>"
      ]
     },
     "execution_count": 28,
     "metadata": {},
     "output_type": "execute_result"
    }
   ],
   "source": [
    "model1 = Sequential()\n",
    "\n",
    "#Input layer\n",
    "model1.add(Dense(1))\n",
    "model1.add(Activation(\"relu\"))\n",
    "\n",
    "#Second layer\n",
    "model1.add(Flatten())\n",
    "model1.add(Dense(64))\n",
    "model1.add(Activation('relu'))\n",
    "\n",
    "#Third layer\n",
    "model1.add(Flatten())\n",
    "model1.add(Dense(64))\n",
    "model1.add(Activation('relu'))\n",
    "\n",
    "#Fourth layer\n",
    "model1.add(Flatten())\n",
    "model1.add(Dense(64))\n",
    "model1.add(Activation('relu'))\n",
    "\n",
    "#Output layer\n",
    "model1.add(Dense(1))\n",
    "model1.add(Activation('relu'))\n",
    "\n",
    "model1.compile(loss='mean_squared_error',\n",
    "             optimizer='adam',\n",
    "             metrics=['MeanSquaredError'])\n",
    "model1.fit(X_train,y_train, epochs=30, validation_split=0.1)"
   ]
  },
  {
   "cell_type": "code",
   "execution_count": 2,
   "metadata": {},
   "outputs": [
    {
     "ename": "NameError",
     "evalue": "name 'model1' is not defined",
     "output_type": "error",
     "traceback": [
      "\u001b[0;31m---------------------------------------------------------------------------\u001b[0m",
      "\u001b[0;31mNameError\u001b[0m                                 Traceback (most recent call last)",
      "\u001b[0;32m<ipython-input-2-db5c3042ca0f>\u001b[0m in \u001b[0;36m<module>\u001b[0;34m\u001b[0m\n\u001b[0;32m----> 1\u001b[0;31m \u001b[0mpreds\u001b[0m \u001b[0;34m=\u001b[0m \u001b[0mmodel1\u001b[0m\u001b[0;34m.\u001b[0m\u001b[0mpredict\u001b[0m\u001b[0;34m(\u001b[0m\u001b[0mX_val\u001b[0m\u001b[0;34m)\u001b[0m\u001b[0;34m\u001b[0m\u001b[0;34m\u001b[0m\u001b[0m\n\u001b[0m\u001b[1;32m      2\u001b[0m \u001b[0mrmse\u001b[0m \u001b[0;34m=\u001b[0m \u001b[0mnp\u001b[0m\u001b[0;34m.\u001b[0m\u001b[0msqrt\u001b[0m\u001b[0;34m(\u001b[0m\u001b[0mmean_squared_error\u001b[0m\u001b[0;34m(\u001b[0m\u001b[0mnp\u001b[0m\u001b[0;34m.\u001b[0m\u001b[0mexp\u001b[0m\u001b[0;34m(\u001b[0m\u001b[0my_val\u001b[0m\u001b[0;34m)\u001b[0m\u001b[0;34m,\u001b[0m \u001b[0mnp\u001b[0m\u001b[0;34m.\u001b[0m\u001b[0mexp\u001b[0m\u001b[0;34m(\u001b[0m\u001b[0mpreds\u001b[0m\u001b[0;34m)\u001b[0m\u001b[0;34m)\u001b[0m\u001b[0;34m)\u001b[0m\u001b[0;34m\u001b[0m\u001b[0;34m\u001b[0m\u001b[0m\n\u001b[1;32m      3\u001b[0m \u001b[0mr2\u001b[0m \u001b[0;34m=\u001b[0m \u001b[0mr2_score\u001b[0m\u001b[0;34m(\u001b[0m\u001b[0my_val\u001b[0m\u001b[0;34m,\u001b[0m \u001b[0mpreds\u001b[0m\u001b[0;34m)\u001b[0m\u001b[0;34m\u001b[0m\u001b[0;34m\u001b[0m\u001b[0m\n\u001b[1;32m      4\u001b[0m \u001b[0mprint\u001b[0m\u001b[0;34m(\u001b[0m\u001b[0mrmse\u001b[0m\u001b[0;34m,\u001b[0m \u001b[0mr2\u001b[0m\u001b[0;34m)\u001b[0m\u001b[0;34m\u001b[0m\u001b[0;34m\u001b[0m\u001b[0m\n",
      "\u001b[0;31mNameError\u001b[0m: name 'model1' is not defined"
     ]
    }
   ],
   "source": [
    "preds = model1.predict(X_val)\n",
    "rmse = np.sqrt(mean_squared_error(np.exp(y_val), np.exp(preds)))\n",
    "r2 = r2_score(y_val, preds)\n",
    "print(rmse, r2)"
   ]
  },
  {
   "cell_type": "code",
   "execution_count": null,
   "metadata": {},
   "outputs": [],
   "source": []
  },
  {
   "cell_type": "code",
   "execution_count": null,
   "metadata": {},
   "outputs": [],
   "source": []
  }
 ],
 "metadata": {
  "kernelspec": {
   "display_name": "Python 3",
   "language": "python",
   "name": "python3"
  },
  "language_info": {
   "codemirror_mode": {
    "name": "ipython",
    "version": 3
   },
   "file_extension": ".py",
   "mimetype": "text/x-python",
   "name": "python",
   "nbconvert_exporter": "python",
   "pygments_lexer": "ipython3",
   "version": "3.7.4"
  }
 },
 "nbformat": 4,
 "nbformat_minor": 2
}
