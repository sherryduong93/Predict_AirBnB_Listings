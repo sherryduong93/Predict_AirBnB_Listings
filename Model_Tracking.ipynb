{
 "cells": [
  {
   "cell_type": "code",
   "execution_count": 1,
   "metadata": {},
   "outputs": [
    {
     "data": {
      "text/html": [
       "        <script type=\"text/javascript\">\n",
       "        window.PlotlyConfig = {MathJaxConfig: 'local'};\n",
       "        if (window.MathJax) {MathJax.Hub.Config({SVG: {font: \"STIX-Web\"}});}\n",
       "        if (typeof require !== 'undefined') {\n",
       "        require.undef(\"plotly\");\n",
       "        requirejs.config({\n",
       "            paths: {\n",
       "                'plotly': ['https://cdn.plot.ly/plotly-latest.min']\n",
       "            }\n",
       "        });\n",
       "        require(['plotly'], function(Plotly) {\n",
       "            window._Plotly = Plotly;\n",
       "        });\n",
       "        }\n",
       "        </script>\n",
       "        "
      ]
     },
     "metadata": {},
     "output_type": "display_data"
    }
   ],
   "source": [
    "import numpy as np\n",
    "import pandas as pd\n",
    "import matplotlib.pyplot as plt\n",
    "%matplotlib inline\n",
    "plt.style.use('ggplot')\n",
    "import seaborn as sns\n",
    "pd.set_option('display.max_columns', None)\n",
    "import os\n",
    "import chart_studio.plotly as py\n",
    "# import plotly.graph_ogjs as go\n",
    "from plotly.offline import download_plotlyjs, init_notebook_mode, plot, iplot\n",
    "init_notebook_mode(connected=True)"
   ]
  },
  {
   "cell_type": "code",
   "execution_count": 2,
   "metadata": {},
   "outputs": [
    {
     "name": "stderr",
     "output_type": "stream",
     "text": [
      "/Users/sherryduong/anaconda3/lib/python3.7/site-packages/IPython/core/interactiveshell.py:3058: DtypeWarning:\n",
      "\n",
      "Columns (43) have mixed types. Specify dtype option on import or set low_memory=False.\n",
      "\n",
      "/Users/sherryduong/anaconda3/lib/python3.7/site-packages/IPython/core/interactiveshell.py:3058: DtypeWarning:\n",
      "\n",
      "Columns (61,62) have mixed types. Specify dtype option on import or set low_memory=False.\n",
      "\n",
      "/Users/sherryduong/anaconda3/lib/python3.7/site-packages/ipykernel_launcher.py:19: FutureWarning:\n",
      "\n",
      "Sorting because non-concatenation axis is not aligned. A future version\n",
      "of pandas will change to not sort by default.\n",
      "\n",
      "To accept the future behavior, pass 'sort=False'.\n",
      "\n",
      "To retain the current behavior and silence the warning, pass 'sort=True'.\n",
      "\n",
      "\n"
     ]
    }
   ],
   "source": [
    "#Importing the data\n",
    "final_df=pd.DataFrame()\n",
    "a_df=pd.DataFrame()\n",
    "b_df=pd.DataFrame()\n",
    "c_df=pd.DataFrame()\n",
    "\n",
    "for file_n in os.listdir('listings'):\n",
    "    if file_n[0]=='.':\n",
    "        continue\n",
    "    else:\n",
    "        add_df = pd.read_csv(f'listings/{file_n}')\n",
    "        if len(add_df.columns)==106:\n",
    "            final_df = pd.concat([final_df, add_df], axis=0)\n",
    "        elif len(add_df.columns)==96:\n",
    "            a_df = pd.concat([a_df, add_df], axis=0)\n",
    "        elif len(add_df.columns)==95:\n",
    "            b_df = pd.concat([b_df, add_df], axis=0)\n",
    "        else:\n",
    "            c_df = pd.concat([c_df, add_df], axis=0)"
   ]
  },
  {
   "cell_type": "code",
   "execution_count": 16,
   "metadata": {},
   "outputs": [
    {
     "name": "stderr",
     "output_type": "stream",
     "text": [
      "/Users/sherryduong/anaconda3/lib/python3.7/site-packages/ipykernel_launcher.py:15: FutureWarning:\n",
      "\n",
      "Sorting because non-concatenation axis is not aligned. A future version\n",
      "of pandas will change to not sort by default.\n",
      "\n",
      "To accept the future behavior, pass 'sort=False'.\n",
      "\n",
      "To retain the current behavior and silence the warning, pass 'sort=True'.\n",
      "\n",
      "\n"
     ]
    }
   ],
   "source": [
    "#These are the columns not present in 2018 reports. They will be dropped.\n",
    "not_in_2018 = ['minimum_minimum_nights','maximum_minimum_nights','minimum_maximum_nights','maximum_maximum_nights',\n",
    "       'minimum_nights_avg_ntm','maximum_nights_avg_ntm', 'number_of_reviews_ltm', \n",
    "       'calculated_host_listings_count_entire_homes','calculated_host_listings_count_private_rooms', \n",
    "       'calculated_host_listings_count_shared_rooms']\n",
    "sf_df = final_df.drop(columns=not_in_2018)\n",
    "sf_df = pd.concat([sf_df, a_df], axis=0)\n",
    "\n",
    "#drop one column not in 2017\n",
    "sf_df = sf_df.drop(columns=['is_business_travel_ready'])\n",
    "sf_df = pd.concat([sf_df, b_df], axis=0)\n",
    "\n",
    "#drop 3 columns not in 2016 & Prior\n",
    "sf_df = sf_df.drop(columns=['access', 'interaction', 'house_rules'])\n",
    "sf_df = pd.concat([sf_df, c_df], axis=0)"
   ]
  },
  {
   "cell_type": "markdown",
   "metadata": {},
   "source": [
    "## Data Cleaning"
   ]
  },
  {
   "cell_type": "code",
   "execution_count": 17,
   "metadata": {},
   "outputs": [],
   "source": [
    "pd.set_option('display.max_rows', 20)\n",
    "#Converting Existing Data Columns to Dates\n",
    "sf_df['last_scraped'] = pd.to_datetime(sf_df['last_scraped'])\n",
    "sf_df['host_since'] = pd.to_datetime(sf_df['host_since'])\n",
    "#Adding new date features\n",
    "sf_df['year'] = sf_df['last_scraped'].transform(lambda x: x.year)\n",
    "sf_df['month-year'] = sf_df['last_scraped'].transform(lambda x: f'{x.month} {x.year}')\n",
    "sf_df['month'] = sf_df['last_scraped'].transform(lambda x: x.month)\n",
    "sf_df['day_of_week'] = sf_df['last_scraped'].transform(lambda x: x.dt.dayofweek)\n",
    "sf_df['day'] = sf_df['last_scraped'].transform(lambda x: x.day)\n",
    "\n",
    "#Converting All Price Related Columns from Objects to Floats\n",
    "sf_df['price'] = sf_df['price'].transform(lambda x: float(x.replace(',', '').replace('$', '')))\n",
    "sf_df['extra_people'] = sf_df['extra_people'].transform(lambda x: float(x.replace(',', '').replace('$', '')))\n",
    "\n",
    "#Fill NaNs in fee columns with 0's, because no additional fee, then convert\n",
    "sf_df[['security_deposit','cleaning_fee']] = sf_df[['security_deposit','cleaning_fee']].fillna(int(0))\n",
    "sf_df['security_deposit'] = sf_df['security_deposit'].transform(lambda x: 0 if x==int(0) else float(x.replace(',', '').replace('$', '')))\n",
    "sf_df['cleaning_fee'] = sf_df['cleaning_fee'].transform(lambda x: 0 if x==int(0) else float(x.replace(',', '').replace('$', '')))\n",
    "\n",
    "#Dropping columns that have over 75% null\n",
    "over_70_null = sf_df.columns[sf_df.isnull().sum()/len(sf_df) > 0.70]\n",
    "sf_df = sf_df.drop(columns=over_70_null)\n",
    "\n",
    "#Removing Outliers (0 & over 2000 daily rate)\n",
    "outlier_thresh=2000\n",
    "sf_df = sf_df.loc[~((sf_df['price'] == 0) | (sf_df['price'] > outlier_thresh))]"
   ]
  },
  {
   "cell_type": "code",
   "execution_count": 103,
   "metadata": {},
   "outputs": [
    {
     "data": {
      "text/plain": [
       "52"
      ]
     },
     "execution_count": 103,
     "metadata": {},
     "output_type": "execute_result"
    }
   ],
   "source": [
    "sf_df['month-year'].nunique()"
   ]
  },
  {
   "cell_type": "markdown",
   "metadata": {},
   "source": [
    "## Train Test Split #1: Use 2015 - 2018 to predict 2019 & 2020"
   ]
  },
  {
   "cell_type": "code",
   "execution_count": 48,
   "metadata": {},
   "outputs": [],
   "source": [
    "test_years=[2020,2019]\n",
    "train_df = sf_df[~sf_df['year'].isin(test_years)]\n",
    "test_df = sf_df[sf_df['year'].isin(test_years)]"
   ]
  },
  {
   "cell_type": "code",
   "execution_count": 49,
   "metadata": {},
   "outputs": [
    {
     "name": "stderr",
     "output_type": "stream",
     "text": [
      "/Users/sherryduong/anaconda3/lib/python3.7/site-packages/pandas/core/indexing.py:494: SettingWithCopyWarning:\n",
      "\n",
      "\n",
      "A value is trying to be set on a copy of a slice from a DataFrame.\n",
      "Try using .loc[row_indexer,col_indexer] = value instead\n",
      "\n",
      "See the caveats in the documentation: http://pandas.pydata.org/pandas-docs/stable/user_guide/indexing.html#returning-a-view-versus-a-copy\n",
      "\n",
      "/Users/sherryduong/anaconda3/lib/python3.7/site-packages/pandas/core/frame.py:3494: SettingWithCopyWarning:\n",
      "\n",
      "\n",
      "A value is trying to be set on a copy of a slice from a DataFrame.\n",
      "Try using .loc[row_indexer,col_indexer] = value instead\n",
      "\n",
      "See the caveats in the documentation: http://pandas.pydata.org/pandas-docs/stable/user_guide/indexing.html#returning-a-view-versus-a-copy\n",
      "\n",
      "/Users/sherryduong/anaconda3/lib/python3.7/site-packages/ipykernel_launcher.py:14: SettingWithCopyWarning:\n",
      "\n",
      "\n",
      "A value is trying to be set on a copy of a slice from a DataFrame.\n",
      "Try using .loc[row_indexer,col_indexer] = value instead\n",
      "\n",
      "See the caveats in the documentation: http://pandas.pydata.org/pandas-docs/stable/user_guide/indexing.html#returning-a-view-versus-a-copy\n",
      "\n"
     ]
    }
   ],
   "source": [
    "#Filling the NaNs in beds, bathrooms, bedrooms\n",
    "#Assume that if the tenant has the full apartment, they have a bathroom/bedroom\n",
    "cond1= (train_df['room_type']=='Entire home/apt')\n",
    "train_df.loc[cond1 & (train_df['beds']==0), train_df.columns=='beds'] = 1\n",
    "train_df.loc[cond1 & (train_df['bathrooms']==0), train_df.columns=='bathrooms']\n",
    "#For the rest, just fill na\n",
    "train_df[['beds','bathrooms', 'bedrooms']] = train_df[['beds','bathrooms', 'bedrooms']].fillna(0)\n",
    "\n",
    "#For review scores, let's just fillin with the average\n",
    "review_lst = ['review_scores_accuracy', 'review_scores_checkin',\n",
    "       'review_scores_cleanliness', 'review_scores_communication',\n",
    "       'review_scores_location', 'review_scores_rating', 'review_scores_value']\n",
    "for review in review_lst:\n",
    "    train_df[review] = train_df[review].fillna(train_df[review].mean())"
   ]
  },
  {
   "cell_type": "markdown",
   "metadata": {},
   "source": [
    "## Baseline Models: No Parameter Tuning or Feature Engineering"
   ]
  },
  {
   "cell_type": "code",
   "execution_count": 84,
   "metadata": {},
   "outputs": [],
   "source": [
    "from sklearn.model_selection import train_test_split, cross_val_score\n",
    "from sklearn.linear_model import LinearRegression\n",
    "from sklearn.tree import DecisionTreeRegressor\n",
    "from sklearn.ensemble import RandomForestRegressor, GradientBoostingRegressor\n",
    "from sklearn.metrics import mean_squared_error"
   ]
  },
  {
   "cell_type": "code",
   "execution_count": 77,
   "metadata": {},
   "outputs": [],
   "source": [
    "features=['accommodates','bathrooms', 'bed_type','bedrooms', 'beds','cleaning_fee',\n",
    "          'extra_people', 'host_response_time',\n",
    "         'neighbourhood_cleansed','property_type','review_scores_cleanliness',\n",
    "          'review_scores_rating', 'room_type', 'security_deposit', 'month-year',\n",
    "          'month','day_of_week']\n",
    "X = train_df[features]\n",
    "y = train_df['price'].apply(np.log)"
   ]
  },
  {
   "cell_type": "code",
   "execution_count": 78,
   "metadata": {},
   "outputs": [],
   "source": [
    "X = pd.get_dummies(X, columns=['bed_type','host_response_time', \n",
    "                           'neighbourhood_cleansed','property_type',\n",
    "                           'room_type', 'month-year','month','day_of_week'])"
   ]
  },
  {
   "cell_type": "code",
   "execution_count": 79,
   "metadata": {},
   "outputs": [],
   "source": [
    "X_train, X_val, y_train, y_val = train_test_split(X, y, test_size=0.3)"
   ]
  },
  {
   "cell_type": "code",
   "execution_count": 80,
   "metadata": {},
   "outputs": [
    {
     "data": {
      "text/plain": [
       "day_of_week_6                              0\n",
       "neighbourhood_cleansed_South of Market     0\n",
       "property_type_Apartment                    0\n",
       "property_type_Aparthotel                   0\n",
       "neighbourhood_cleansed_Western Addition    0\n",
       "                                          ..\n",
       "month-year_10 2016                         0\n",
       "month-year_1 2018                          0\n",
       "month-year_1 2017                          0\n",
       "room_type_Shared room                      0\n",
       "accommodates                               0\n",
       "Length: 158, dtype: int64"
      ]
     },
     "execution_count": 80,
     "metadata": {},
     "output_type": "execute_result"
    }
   ],
   "source": [
    "X_train.isnull().sum().sort_values(ascending=False)"
   ]
  },
  {
   "cell_type": "code",
   "execution_count": 96,
   "metadata": {},
   "outputs": [
    {
     "name": "stdout",
     "output_type": "stream",
     "text": [
      "R2: 0.6173952663311504, RMSE: 1.2014911787387206,\n",
      "Cross Val Scores: [0.61926593 0.62268511 0.62378648]\n",
      " [0.52507051 0.59334955 0.27202679]\n"
     ]
    }
   ],
   "source": [
    "estimator = LinearRegression()\n",
    "model = estimator.fit(X_train,y_train)\n",
    "preds = model.predict(X_val)\n",
    "r2 = model.score(X_val, y_val)\n",
    "rmse = mean_squared_error(preds, y_val)\n",
    "cs_val = cross_val_score(estimator, X_train, y_train, cv=3)\n",
    "cs_val2 = cross_val_score(estimator, X, y, cv=3)\n",
    "print(f'R2: {r2}, RMSE: {np.exp(rmse)},\\nCross Val Scores: {cs_val}\\n {cs_val2}')"
   ]
  },
  {
   "cell_type": "code",
   "execution_count": 97,
   "metadata": {},
   "outputs": [
    {
     "name": "stdout",
     "output_type": "stream",
     "text": [
      "R2: 0.8095543120834257, RMSE: 1.095675102991079,\n",
      "Cross Val Scores: [0.78017047 0.77630018 0.77717544]\n",
      " [0.60992562 0.80553189 0.72205495]\n"
     ]
    }
   ],
   "source": [
    "estimator = DecisionTreeRegressor()\n",
    "model = estimator.fit(X_train,y_train)\n",
    "preds = model.predict(X_val)\n",
    "r2 = model.score(X_val, y_val)\n",
    "rmse = mean_squared_error(preds, y_val)\n",
    "cs_val = cross_val_score(estimator, X_train, y_train, cv=3)\n",
    "cs_val2 = cross_val_score(estimator, X, y, cv=3)\n",
    "print(f'R2: {r2}, RMSE: {np.exp(rmse)},\\nCross Val Scores: {cs_val}\\n {cs_val2}')"
   ]
  },
  {
   "cell_type": "code",
   "execution_count": 99,
   "metadata": {},
   "outputs": [
    {
     "name": "stderr",
     "output_type": "stream",
     "text": [
      "/Users/sherryduong/anaconda3/lib/python3.7/site-packages/sklearn/ensemble/forest.py:245: FutureWarning:\n",
      "\n",
      "The default value of n_estimators will change from 10 in version 0.20 to 100 in 0.22.\n",
      "\n"
     ]
    },
    {
     "name": "stdout",
     "output_type": "stream",
     "text": [
      "R2: 0.8689382716749707, RMSE: 1.064898919273087,\n",
      "Cross Val Scores: [0.85360751 0.85187293 0.85314819]\n",
      " [0.72735395 0.8669464  0.81268163]\n"
     ]
    }
   ],
   "source": [
    "estimator = RandomForestRegressor()\n",
    "model = estimator.fit(X_train,y_train)\n",
    "preds = model.predict(X_val)\n",
    "r2 = model.score(X_val, y_val)\n",
    "rmse = mean_squared_error(preds, y_val)\n",
    "cs_val = cross_val_score(estimator, X_train, y_train, cv=3)\n",
    "cs_val2 = cross_val_score(estimator, X, y, cv=3)\n",
    "print(f'R2: {r2}, RMSE: {np.exp(rmse)},\\nCross Val Scores: {cs_val}\\n {cs_val2}')"
   ]
  },
  {
   "cell_type": "code",
   "execution_count": 100,
   "metadata": {},
   "outputs": [
    {
     "name": "stdout",
     "output_type": "stream",
     "text": [
      "R2: 0.656331075665477, RMSE: 1.1792552355223438,\n",
      "Cross Val Scores: [0.65950634 0.65872468 0.65577119]\n",
      " [0.63179432 0.6356818  0.65560885]\n"
     ]
    }
   ],
   "source": [
    "estimator = GradientBoostingRegressor()\n",
    "model = estimator.fit(X_train,y_train)\n",
    "preds = model.predict(X_val)\n",
    "r2 = model.score(X_val, y_val)\n",
    "rmse = mean_squared_error(preds, y_val)\n",
    "cs_val = cross_val_score(estimator, X_train, y_train, cv=3)\n",
    "cs_val2 = cross_val_score(estimator, X, y, cv=3)\n",
    "print(f'R2: {r2}, RMSE: {np.exp(rmse)},\\nCross Val Scores: {cs_val}\\n {cs_val2}')"
   ]
  },
  {
   "cell_type": "code",
   "execution_count": null,
   "metadata": {},
   "outputs": [],
   "source": []
  }
 ],
 "metadata": {
  "kernelspec": {
   "display_name": "Python 3",
   "language": "python",
   "name": "python3"
  },
  "language_info": {
   "codemirror_mode": {
    "name": "ipython",
    "version": 3
   },
   "file_extension": ".py",
   "mimetype": "text/x-python",
   "name": "python",
   "nbconvert_exporter": "python",
   "pygments_lexer": "ipython3",
   "version": "3.7.4"
  }
 },
 "nbformat": 4,
 "nbformat_minor": 2
}
